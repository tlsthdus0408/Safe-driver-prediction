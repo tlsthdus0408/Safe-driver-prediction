{
 "cells": [
  {
   "cell_type": "markdown",
   "metadata": {
    "papermill": {
     "duration": 0.021334,
     "end_time": "2021-08-09T11:39:38.812568",
     "exception": false,
     "start_time": "2021-08-09T11:39:38.791234",
     "status": "completed"
    },
    "tags": []
   },
   "source": [
    "# 8.5 안전 운전자 예측 경진대회 성능 개선 II : XGBoost 모델"
   ]
  },
  {
   "cell_type": "markdown",
   "metadata": {
    "papermill": {
     "duration": 0.019811,
     "end_time": "2021-08-09T11:39:38.85582",
     "exception": false,
     "start_time": "2021-08-09T11:39:38.836009",
     "status": "completed"
    },
    "tags": []
   },
   "source": [
    "- [안전 운전자 예측 경진대회 링크](https://www.kaggle.com/c/porto-seguro-safe-driver-prediction)\n",
    "- [모델링 코드 참고 링크](https://www.kaggle.com/xiaozhouwang/2nd-place-lightgbm-solution)"
   ]
  },
  {
   "cell_type": "code",
   "execution_count": 1,
   "metadata": {
    "papermill": {
     "duration": 9.340015,
     "end_time": "2021-08-09T11:39:48.264853",
     "exception": false,
     "start_time": "2021-08-09T11:39:38.924838",
     "status": "completed"
    },
    "tags": []
   },
   "outputs": [],
   "source": [
    "import pandas as pd\n",
    "\n",
    "# 데이터 경로\n",
    "\n",
    "train = pd.read_csv( 'train.csv', index_col='id')\n",
    "test = pd.read_csv( 'test.csv', index_col='id')\n",
    "submission = pd.read_csv( 'sample_submission.csv', index_col='id')"
   ]
  },
  {
   "cell_type": "markdown",
   "metadata": {
    "papermill": {
     "duration": 0.019962,
     "end_time": "2021-08-09T11:39:48.305765",
     "exception": false,
     "start_time": "2021-08-09T11:39:48.285803",
     "status": "completed"
    },
    "tags": []
   },
   "source": [
    "## 8.5.1 피처 엔지니어링"
   ]
  },
  {
   "cell_type": "markdown",
   "metadata": {
    "papermill": {
     "duration": 0.020582,
     "end_time": "2021-08-09T11:39:48.347471",
     "exception": false,
     "start_time": "2021-08-09T11:39:48.326889",
     "status": "completed"
    },
    "tags": []
   },
   "source": [
    "### 데이터 합치기"
   ]
  },
  {
   "cell_type": "code",
   "execution_count": 2,
   "metadata": {
    "papermill": {
     "duration": 1.316112,
     "end_time": "2021-08-09T11:39:49.683898",
     "exception": false,
     "start_time": "2021-08-09T11:39:48.367786",
     "status": "completed"
    },
    "tags": []
   },
   "outputs": [],
   "source": [
    "all_data = pd.concat([train, test], ignore_index=True)\n",
    "all_data = all_data.drop('target', axis=1) # 타깃값 제거\n",
    "\n",
    "all_features = all_data.columns # 전체 피처"
   ]
  },
  {
   "cell_type": "markdown",
   "metadata": {
    "papermill": {
     "duration": 0.024454,
     "end_time": "2021-08-09T11:39:49.730159",
     "exception": false,
     "start_time": "2021-08-09T11:39:49.705705",
     "status": "completed"
    },
    "tags": []
   },
   "source": [
    "### 명목형 피처 원-핫 인코딩"
   ]
  },
  {
   "cell_type": "code",
   "execution_count": 3,
   "metadata": {
    "papermill": {
     "duration": 3.123907,
     "end_time": "2021-08-09T11:39:52.874196",
     "exception": false,
     "start_time": "2021-08-09T11:39:49.750289",
     "status": "completed"
    },
    "tags": []
   },
   "outputs": [],
   "source": [
    "from sklearn.preprocessing import OneHotEncoder\n",
    "\n",
    "# 명목형 피처\n",
    "cat_features = [feature for feature in all_features if 'cat' in feature]\n",
    "\n",
    "# 원-핫 인코딩 적용\n",
    "onehot_encoder = OneHotEncoder()\n",
    "encoded_cat_matrix = onehot_encoder.fit_transform(all_data[cat_features]) "
   ]
  },
  {
   "cell_type": "markdown",
   "metadata": {
    "papermill": {
     "duration": 0.020061,
     "end_time": "2021-08-09T11:39:52.914732",
     "exception": false,
     "start_time": "2021-08-09T11:39:52.894671",
     "status": "completed"
    },
    "tags": []
   },
   "source": [
    "### 파생 피처 추가"
   ]
  },
  {
   "cell_type": "code",
   "execution_count": 4,
   "metadata": {
    "papermill": {
     "duration": 0.254271,
     "end_time": "2021-08-09T11:39:53.189661",
     "exception": false,
     "start_time": "2021-08-09T11:39:52.93539",
     "status": "completed"
    },
    "tags": []
   },
   "outputs": [],
   "source": [
    "# '데이터 하나당 결측값 개수'를 파생 피처로 추가\n",
    "all_data['num_missing'] = (all_data==-1).sum(axis=1)"
   ]
  },
  {
   "cell_type": "code",
   "execution_count": 5,
   "metadata": {
    "papermill": {
     "duration": 0.027032,
     "end_time": "2021-08-09T11:39:53.236982",
     "exception": false,
     "start_time": "2021-08-09T11:39:53.20995",
     "status": "completed"
    },
    "tags": []
   },
   "outputs": [],
   "source": [
    "# 명목형 피처, calc 분류 피처를 제외한 피처\n",
    "remaining_features = [feature for feature in all_features\n",
    "                      if ('cat' not in feature and 'calc' not in feature)] \n",
    "# num_missing을 remaining_features에 추가\n",
    "remaining_features.append('num_missing')"
   ]
  },
  {
   "cell_type": "code",
   "execution_count": 6,
   "metadata": {
    "papermill": {
     "duration": 24.089055,
     "end_time": "2021-08-09T11:40:17.346457",
     "exception": false,
     "start_time": "2021-08-09T11:39:53.257402",
     "status": "completed"
    },
    "tags": []
   },
   "outputs": [],
   "source": [
    "# 분류가 ind인 피처\n",
    "ind_features = [feature for feature in all_features if 'ind' in feature]\n",
    "\n",
    "is_first_feature = True\n",
    "for ind_feature in ind_features:\n",
    "    if is_first_feature:\n",
    "        all_data['mix_ind'] = all_data[ind_feature].astype(str) + '_'\n",
    "        is_first_feature = False\n",
    "    else:\n",
    "        all_data['mix_ind'] += all_data[ind_feature].astype(str) + '_'"
   ]
  },
  {
   "cell_type": "code",
   "execution_count": 7,
   "metadata": {
    "papermill": {
     "duration": 0.03701,
     "end_time": "2021-08-09T11:40:17.404484",
     "exception": false,
     "start_time": "2021-08-09T11:40:17.367474",
     "status": "completed"
    },
    "tags": []
   },
   "outputs": [
    {
     "data": {
      "text/plain": [
       "0          2_2_5_1_0_0_1_0_0_0_0_0_0_0_11_0_1_0_\n",
       "1           1_1_7_0_0_0_0_1_0_0_0_0_0_0_3_0_0_1_\n",
       "2          5_4_9_1_0_0_0_1_0_0_0_0_0_0_12_1_0_0_\n",
       "3           0_1_2_0_0_1_0_0_0_0_0_0_0_0_8_1_0_0_\n",
       "4           0_2_0_1_0_1_0_0_0_0_0_0_0_0_9_1_0_0_\n",
       "                           ...                  \n",
       "1488023     0_1_6_0_0_0_1_0_0_0_0_0_0_0_2_0_0_1_\n",
       "1488024    5_3_5_1_0_0_0_1_0_0_0_0_0_0_11_1_0_0_\n",
       "1488025     0_1_5_0_0_1_0_0_0_0_0_0_0_0_5_0_0_1_\n",
       "1488026    6_1_5_1_0_0_0_0_1_0_0_0_0_0_13_1_0_0_\n",
       "1488027    7_1_4_1_0_0_0_0_1_0_0_0_0_0_12_1_0_0_\n",
       "Name: mix_ind, Length: 1488028, dtype: object"
      ]
     },
     "execution_count": 7,
     "metadata": {},
     "output_type": "execute_result"
    }
   ],
   "source": [
    "all_data['mix_ind']"
   ]
  },
  {
   "cell_type": "code",
   "execution_count": 8,
   "metadata": {
    "papermill": {
     "duration": 8.424645,
     "end_time": "2021-08-09T11:40:25.850123",
     "exception": false,
     "start_time": "2021-08-09T11:40:17.425478",
     "status": "completed"
    },
    "tags": []
   },
   "outputs": [],
   "source": [
    "cat_count_features = []\n",
    "for feature in cat_features+['mix_ind']:\n",
    "    val_counts_dict = all_data[feature].value_counts().to_dict()\n",
    "    all_data[f'{feature}_count'] = all_data[feature].apply(lambda x: \n",
    "                                                           val_counts_dict[x])\n",
    "    cat_count_features.append(f'{feature}_count')"
   ]
  },
  {
   "cell_type": "code",
   "execution_count": 9,
   "metadata": {
    "papermill": {
     "duration": 0.03088,
     "end_time": "2021-08-09T11:40:25.902673",
     "exception": false,
     "start_time": "2021-08-09T11:40:25.871793",
     "status": "completed"
    },
    "tags": []
   },
   "outputs": [
    {
     "data": {
      "text/plain": [
       "['ps_ind_02_cat_count',\n",
       " 'ps_ind_04_cat_count',\n",
       " 'ps_ind_05_cat_count',\n",
       " 'ps_car_01_cat_count',\n",
       " 'ps_car_02_cat_count',\n",
       " 'ps_car_03_cat_count',\n",
       " 'ps_car_04_cat_count',\n",
       " 'ps_car_05_cat_count',\n",
       " 'ps_car_06_cat_count',\n",
       " 'ps_car_07_cat_count',\n",
       " 'ps_car_08_cat_count',\n",
       " 'ps_car_09_cat_count',\n",
       " 'ps_car_10_cat_count',\n",
       " 'ps_car_11_cat_count',\n",
       " 'mix_ind_count']"
      ]
     },
     "execution_count": 9,
     "metadata": {},
     "output_type": "execute_result"
    }
   ],
   "source": [
    "cat_count_features"
   ]
  },
  {
   "cell_type": "markdown",
   "metadata": {
    "papermill": {
     "duration": 0.023272,
     "end_time": "2021-08-09T11:40:25.947231",
     "exception": false,
     "start_time": "2021-08-09T11:40:25.923959",
     "status": "completed"
    },
    "tags": []
   },
   "source": [
    "### 필요 없는 피처 제거"
   ]
  },
  {
   "cell_type": "code",
   "execution_count": 10,
   "metadata": {
    "papermill": {
     "duration": 5.35722,
     "end_time": "2021-08-09T11:40:31.325595",
     "exception": false,
     "start_time": "2021-08-09T11:40:25.968375",
     "status": "completed"
    },
    "tags": []
   },
   "outputs": [],
   "source": [
    "from scipy import sparse\n",
    "\n",
    "# 필요 없는 피처들\n",
    "drop_features = ['ps_ind_14', 'ps_ind_10_bin', 'ps_ind_11_bin', \n",
    "                 'ps_ind_12_bin', 'ps_ind_13_bin', 'ps_car_14']\n",
    "\n",
    "# remaining_features, cat_count_features에서 drop_features를 제거한 데이터\n",
    "all_data_remaining = all_data[remaining_features+cat_count_features].drop(drop_features, axis=1)\n",
    "\n",
    "# 데이터 합치기\n",
    "all_data_sprs = sparse.hstack([sparse.csr_matrix(all_data_remaining),\n",
    "                               encoded_cat_matrix],\n",
    "                              format='csr')"
   ]
  },
  {
   "cell_type": "markdown",
   "metadata": {
    "papermill": {
     "duration": 0.021242,
     "end_time": "2021-08-09T11:40:31.36788",
     "exception": false,
     "start_time": "2021-08-09T11:40:31.346638",
     "status": "completed"
    },
    "tags": []
   },
   "source": [
    "### 데이터 나누기"
   ]
  },
  {
   "cell_type": "code",
   "execution_count": 11,
   "metadata": {
    "papermill": {
     "duration": 0.959572,
     "end_time": "2021-08-09T11:40:32.348323",
     "exception": false,
     "start_time": "2021-08-09T11:40:31.388751",
     "status": "completed"
    },
    "tags": []
   },
   "outputs": [],
   "source": [
    "num_train = len(train) # 훈련 데이터 개수\n",
    "\n",
    "# 훈련 데이터와 테스트 데이터 나누기\n",
    "X = all_data_sprs[:num_train]\n",
    "X_test = all_data_sprs[num_train:]\n",
    "\n",
    "y = train['target'].values"
   ]
  },
  {
   "cell_type": "markdown",
   "metadata": {
    "papermill": {
     "duration": 0.020777,
     "end_time": "2021-08-09T11:40:32.38993",
     "exception": false,
     "start_time": "2021-08-09T11:40:32.369153",
     "status": "completed"
    },
    "tags": []
   },
   "source": [
    "### 정규화 지니계수 계산 함수"
   ]
  },
  {
   "cell_type": "code",
   "execution_count": 12,
   "metadata": {
    "papermill": {
     "duration": 0.029989,
     "end_time": "2021-08-09T11:40:32.441058",
     "exception": false,
     "start_time": "2021-08-09T11:40:32.411069",
     "status": "completed"
    },
    "tags": []
   },
   "outputs": [],
   "source": [
    "import numpy as np\n",
    "\n",
    "def eval_gini(y_true, y_pred):\n",
    "    # 실제값과 예측값의 크기가 같은지 확인 (값이 다르면 오류 발생)\n",
    "    assert y_true.shape == y_pred.shape\n",
    "\n",
    "    n_samples = y_true.shape[0]                      # 데이터 개수\n",
    "    L_mid = np.linspace(1 / n_samples, 1, n_samples) # 대각선 값\n",
    "\n",
    "    # 1) 예측값에 대한 지니계수\n",
    "    pred_order = y_true[y_pred.argsort()] # y_pred 크기순으로 y_true 값 정렬\n",
    "    L_pred = np.cumsum(pred_order) / np.sum(pred_order) # 로렌츠 곡선\n",
    "    G_pred = np.sum(L_mid - L_pred)       # 예측 값에 대한 지니계수\n",
    "\n",
    "    # 2) 예측이 완벽할 때 지니계수\n",
    "    true_order = y_true[y_true.argsort()] # y_true 크기순으로 y_true 값 정렬\n",
    "    L_true = np.cumsum(true_order) / np.sum(true_order) # 로렌츠 곡선\n",
    "    G_true = np.sum(L_mid - L_true)       # 예측이 완벽할 때 지니계수\n",
    "\n",
    "    # 정규화된 지니계수\n",
    "    return G_pred / G_true"
   ]
  },
  {
   "cell_type": "code",
   "execution_count": 13,
   "metadata": {
    "papermill": {
     "duration": 0.02826,
     "end_time": "2021-08-09T11:40:32.490223",
     "exception": false,
     "start_time": "2021-08-09T11:40:32.461963",
     "status": "completed"
    },
    "tags": []
   },
   "outputs": [],
   "source": [
    "# XGBoost용 gini() 함수\n",
    "def gini(preds, dtrain):\n",
    "    labels = dtrain.get_label()\n",
    "    return 'gini', eval_gini(labels, preds)"
   ]
  },
  {
   "cell_type": "markdown",
   "metadata": {
    "papermill": {
     "duration": 0.020383,
     "end_time": "2021-08-09T11:40:32.531958",
     "exception": false,
     "start_time": "2021-08-09T11:40:32.511575",
     "status": "completed"
    },
    "tags": []
   },
   "source": [
    "\n",
    "## 8.5.2 하이퍼파라미터 최적화"
   ]
  },
  {
   "cell_type": "markdown",
   "metadata": {
    "papermill": {
     "duration": 0.020691,
     "end_time": "2021-08-09T11:40:32.5737",
     "exception": false,
     "start_time": "2021-08-09T11:40:32.553009",
     "status": "completed"
    },
    "tags": []
   },
   "source": [
    "### 데이터셋 준비"
   ]
  },
  {
   "cell_type": "code",
   "execution_count": 14,
   "metadata": {
    "papermill": {
     "duration": 0.787486,
     "end_time": "2021-08-09T11:40:33.382467",
     "exception": false,
     "start_time": "2021-08-09T11:40:32.594981",
     "status": "completed"
    },
    "tags": []
   },
   "outputs": [],
   "source": [
    "import xgboost as xgb\n",
    "from sklearn.model_selection import train_test_split\n",
    "\n",
    "# 8:2 비율로 훈련 데이터, 검증 데이터 분리 (베이지안 최적화 수행용)\n",
    "X_train, X_valid, y_train, y_valid = train_test_split(X, y, \n",
    "                                                      test_size=0.2, \n",
    "                                                      random_state=0)\n",
    "# 베이지안 최적화용 데이터셋\n",
    "bayes_dtrain = xgb.DMatrix(X_train, y_train)\n",
    "bayes_dvalid = xgb.DMatrix(X_valid, y_valid)"
   ]
  },
  {
   "cell_type": "markdown",
   "metadata": {
    "papermill": {
     "duration": 0.020704,
     "end_time": "2021-08-09T11:40:33.424334",
     "exception": false,
     "start_time": "2021-08-09T11:40:33.40363",
     "status": "completed"
    },
    "tags": []
   },
   "source": [
    "### 하이퍼파라미터 범위 설정"
   ]
  },
  {
   "cell_type": "code",
   "execution_count": 15,
   "metadata": {
    "papermill": {
     "duration": 0.029252,
     "end_time": "2021-08-09T11:40:33.47495",
     "exception": false,
     "start_time": "2021-08-09T11:40:33.445698",
     "status": "completed"
    },
    "tags": []
   },
   "outputs": [],
   "source": [
    "# 베이지안 최적화를 위한 하이퍼파라미터 범위\n",
    "param_bounds = {'max_depth': (4, 8),\n",
    "                'subsample': (0.6, 0.9),\n",
    "                'colsample_bytree': (0.7, 1.0),\n",
    "                'min_child_weight': (5, 7),\n",
    "                'gamma': (8, 11),\n",
    "                'reg_alpha': (7, 9),\n",
    "                'reg_lambda': (1.1, 1.5),\n",
    "                'scale_pos_weight': (1.4, 1.6)}\n",
    "\n",
    "# 값이 고정된 하이퍼파라미터\n",
    "fixed_params = {'objective': 'binary:logistic',\n",
    "                'learning_rate': 0.02,\n",
    "                'random_state': 1991}"
   ]
  },
  {
   "cell_type": "markdown",
   "metadata": {
    "papermill": {
     "duration": 0.021186,
     "end_time": "2021-08-09T11:40:33.517164",
     "exception": false,
     "start_time": "2021-08-09T11:40:33.495978",
     "status": "completed"
    },
    "tags": []
   },
   "source": [
    "### (베이지안 최적화용) 평가지표 계산 함수 작성"
   ]
  },
  {
   "cell_type": "code",
   "execution_count": 16,
   "metadata": {
    "papermill": {
     "duration": 0.031798,
     "end_time": "2021-08-09T11:40:33.57044",
     "exception": false,
     "start_time": "2021-08-09T11:40:33.538642",
     "status": "completed"
    },
    "tags": []
   },
   "outputs": [],
   "source": [
    "def eval_function(max_depth, subsample, colsample_bytree, min_child_weight,\n",
    "                 reg_alpha, gamma, reg_lambda, scale_pos_weight):\n",
    "    '''최적화하려는 평가지표(지니계수) 계산 함수'''\n",
    "    # 베이지안 최적화를 수행할 하이퍼파라미터\n",
    "    params = {'max_depth': int(round(max_depth)),\n",
    "              'subsample': subsample,\n",
    "              'colsample_bytree': colsample_bytree,\n",
    "              'min_child_weight': min_child_weight,\n",
    "              'gamma': gamma,\n",
    "              'reg_alpha':reg_alpha,\n",
    "              'reg_lambda': reg_lambda,\n",
    "              'scale_pos_weight': scale_pos_weight}\n",
    "    # 값이 고정된 하이퍼파라미터도 추가\n",
    "    params.update(fixed_params)\n",
    "    \n",
    "    print('하이퍼파라미터 :', params)    \n",
    "        \n",
    "    # XGBoost 모델 훈련\n",
    "    xgb_model = xgb.train(params=params, \n",
    "                          dtrain=bayes_dtrain,\n",
    "                          num_boost_round=2000,\n",
    "                          evals=[(bayes_dvalid, 'bayes_dvalid')],\n",
    "                          maximize=True,\n",
    "                          feval=gini,\n",
    "                          early_stopping_rounds=200,\n",
    "                          verbose_eval=False)\n",
    "                           \n",
    "    best_iter = xgb_model.best_iteration # 최적 반복 횟수\n",
    "    # 검증 데이터로 예측 수행\n",
    "    preds = xgb_model.predict(bayes_dvalid, \n",
    "                              iteration_range=(0, best_iter))\n",
    "    # 지니계수 계산\n",
    "    gini_score = eval_gini(y_valid, preds)\n",
    "    print(f'지니계수 : {gini_score}\\n')\n",
    "    \n",
    "    return gini_score"
   ]
  },
  {
   "cell_type": "markdown",
   "metadata": {
    "papermill": {
     "duration": 0.020926,
     "end_time": "2021-08-09T11:40:33.61246",
     "exception": false,
     "start_time": "2021-08-09T11:40:33.591534",
     "status": "completed"
    },
    "tags": []
   },
   "source": [
    "### 최적화 수행"
   ]
  },
  {
   "cell_type": "code",
   "execution_count": 17,
   "metadata": {
    "papermill": {
     "duration": 8424.657546,
     "end_time": "2021-08-09T14:00:58.292109",
     "exception": false,
     "start_time": "2021-08-09T11:40:33.634563",
     "status": "completed"
    },
    "tags": []
   },
   "outputs": [
    {
     "name": "stdout",
     "output_type": "stream",
     "text": [
      "|   iter    |  target   | colsam... |   gamma   | max_depth | min_ch... | reg_alpha | reg_la... | scale_... | subsample |\n",
      "-------------------------------------------------------------------------------------------------------------------------\n",
      "하이퍼파라미터 : {'max_depth': 6, 'subsample': 0.867531900234624, 'colsample_bytree': 0.8646440511781974, 'min_child_weight': 6.0897663659937935, 'gamma': 10.14556809911726, 'reg_alpha': 7.84730959867781, 'reg_lambda': 1.3583576452266626, 'scale_pos_weight': 1.4875174422525386, 'objective': 'binary:logistic', 'learning_rate': 0.02, 'random_state': 1991}\n"
     ]
    },
    {
     "name": "stderr",
     "output_type": "stream",
     "text": [
      "C:\\Users\\KOREAIT\\anaconda3\\envs\\pt3prer32\\lib\\site-packages\\xgboost\\training.py:35: UserWarning: `feval` is deprecated, use `custom_metric` instead.  They have different behavior when custom objective is also used.See https://xgboost.readthedocs.io/en/latest/tutorials/custom_metric_obj.html for details on the `custom_metric`.\n",
      "  warnings.warn(\n"
     ]
    },
    {
     "name": "stdout",
     "output_type": "stream",
     "text": [
      "지니계수 : 0.2848254162253996\n",
      "\n",
      "| \u001b[0m1        \u001b[0m | \u001b[0m0.2848   \u001b[0m | \u001b[0m0.8646   \u001b[0m | \u001b[0m10.15    \u001b[0m | \u001b[0m6.411    \u001b[0m | \u001b[0m6.09     \u001b[0m | \u001b[0m7.847    \u001b[0m | \u001b[0m1.358    \u001b[0m | \u001b[0m1.488    \u001b[0m | \u001b[0m0.8675   \u001b[0m |\n",
      "하이퍼파라미터 : {'max_depth': 7, 'subsample': 0.6261387899104622, 'colsample_bytree': 0.9890988281503088, 'min_child_weight': 6.0577898395058085, 'gamma': 9.150324556477333, 'reg_alpha': 8.136089122187865, 'reg_lambda': 1.4702386553170643, 'scale_pos_weight': 1.4142072116395774, 'objective': 'binary:logistic', 'learning_rate': 0.02, 'random_state': 1991}\n",
      "지니계수 : 0.284944358505968\n",
      "\n",
      "| \u001b[95m2        \u001b[0m | \u001b[95m0.2849   \u001b[0m | \u001b[95m0.9891   \u001b[0m | \u001b[95m9.15     \u001b[0m | \u001b[95m7.167    \u001b[0m | \u001b[95m6.058    \u001b[0m | \u001b[95m8.136    \u001b[0m | \u001b[95m1.47     \u001b[0m | \u001b[95m1.414    \u001b[0m | \u001b[95m0.6261   \u001b[0m |\n",
      "하이퍼파라미터 : {'max_depth': 7, 'subsample': 0.8341587528859367, 'colsample_bytree': 0.7060655192320977, 'min_child_weight': 6.7400242964936385, 'gamma': 10.497859536643814, 'reg_alpha': 8.957236684465528, 'reg_lambda': 1.4196634256866894, 'scale_pos_weight': 1.4922958724505864, 'objective': 'binary:logistic', 'learning_rate': 0.02, 'random_state': 1991}\n",
      "지니계수 : 0.2848102810577584\n",
      "\n",
      "| \u001b[0m3        \u001b[0m | \u001b[0m0.2848   \u001b[0m | \u001b[0m0.7061   \u001b[0m | \u001b[0m10.5     \u001b[0m | \u001b[0m7.113    \u001b[0m | \u001b[0m6.74     \u001b[0m | \u001b[0m8.957    \u001b[0m | \u001b[0m1.42     \u001b[0m | \u001b[0m1.492    \u001b[0m | \u001b[0m0.8342   \u001b[0m |\n",
      "하이퍼파라미터 : {'max_depth': 7, 'subsample': 0.7001630536555632, 'colsample_bytree': 0.8843124587484356, 'min_child_weight': 6.494091293383359, 'gamma': 10.452246227672624, 'reg_alpha': 8.551838810159788, 'reg_lambda': 1.3814765995549108, 'scale_pos_weight': 1.423280772455086, 'objective': 'binary:logistic', 'learning_rate': 0.02, 'random_state': 1991}\n"
     ]
    },
    {
     "name": "stderr",
     "output_type": "stream",
     "text": [
      "C:\\Users\\KOREAIT\\anaconda3\\envs\\pt3prer32\\lib\\site-packages\\xgboost\\training.py:35: UserWarning: `feval` is deprecated, use `custom_metric` instead.  They have different behavior when custom objective is also used.See https://xgboost.readthedocs.io/en/latest/tutorials/custom_metric_obj.html for details on the `custom_metric`.\n",
      "  warnings.warn(\n"
     ]
    },
    {
     "name": "stdout",
     "output_type": "stream",
     "text": [
      "지니계수 : 0.28372532851421195\n",
      "\n",
      "| \u001b[0m4        \u001b[0m | \u001b[0m0.2837   \u001b[0m | \u001b[0m0.8843   \u001b[0m | \u001b[0m10.45    \u001b[0m | \u001b[0m6.838    \u001b[0m | \u001b[0m6.494    \u001b[0m | \u001b[0m8.552    \u001b[0m | \u001b[0m1.381    \u001b[0m | \u001b[0m1.423    \u001b[0m | \u001b[0m0.7002   \u001b[0m |\n",
      "하이퍼파라미터 : {'max_depth': 7, 'subsample': 0.8535233675350644, 'colsample_bytree': 0.92975858050776, 'min_child_weight': 6.249564429359247, 'gamma': 9.95563546750357, 'reg_alpha': 8.411512219837842, 'reg_lambda': 1.424460008293778, 'scale_pos_weight': 1.5416807226581535, 'objective': 'binary:logistic', 'learning_rate': 0.02, 'random_state': 1991}\n"
     ]
    },
    {
     "name": "stderr",
     "output_type": "stream",
     "text": [
      "C:\\Users\\KOREAIT\\anaconda3\\envs\\pt3prer32\\lib\\site-packages\\xgboost\\training.py:35: UserWarning: `feval` is deprecated, use `custom_metric` instead.  They have different behavior when custom objective is also used.See https://xgboost.readthedocs.io/en/latest/tutorials/custom_metric_obj.html for details on the `custom_metric`.\n",
      "  warnings.warn(\n"
     ]
    },
    {
     "name": "stdout",
     "output_type": "stream",
     "text": [
      "지니계수 : 0.28530004505451917\n",
      "\n",
      "| \u001b[95m5        \u001b[0m | \u001b[95m0.2853   \u001b[0m | \u001b[95m0.9298   \u001b[0m | \u001b[95m9.956    \u001b[0m | \u001b[95m6.809    \u001b[0m | \u001b[95m6.25     \u001b[0m | \u001b[95m8.412    \u001b[0m | \u001b[95m1.424    \u001b[0m | \u001b[95m1.542    \u001b[0m | \u001b[95m0.8535   \u001b[0m |\n",
      "하이퍼파라미터 : {'max_depth': 7, 'subsample': 0.6462619019069298, 'colsample_bytree': 0.80929192865947, 'min_child_weight': 6.079999276892042, 'gamma': 9.553916776586505, 'reg_alpha': 8.860396362258099, 'reg_lambda': 1.4050740023119348, 'scale_pos_weight': 1.4668544695338273, 'objective': 'binary:logistic', 'learning_rate': 0.02, 'random_state': 1991}\n"
     ]
    },
    {
     "name": "stderr",
     "output_type": "stream",
     "text": [
      "C:\\Users\\KOREAIT\\anaconda3\\envs\\pt3prer32\\lib\\site-packages\\xgboost\\training.py:35: UserWarning: `feval` is deprecated, use `custom_metric` instead.  They have different behavior when custom objective is also used.See https://xgboost.readthedocs.io/en/latest/tutorials/custom_metric_obj.html for details on the `custom_metric`.\n",
      "  warnings.warn(\n"
     ]
    },
    {
     "name": "stdout",
     "output_type": "stream",
     "text": [
      "지니계수 : 0.285090328160438\n",
      "\n",
      "| \u001b[0m6        \u001b[0m | \u001b[0m0.2851   \u001b[0m | \u001b[0m0.8093   \u001b[0m | \u001b[0m9.554    \u001b[0m | \u001b[0m6.532    \u001b[0m | \u001b[0m6.08     \u001b[0m | \u001b[0m8.86     \u001b[0m | \u001b[0m1.405    \u001b[0m | \u001b[0m1.467    \u001b[0m | \u001b[0m0.6463   \u001b[0m |\n",
      "하이퍼파라미터 : {'max_depth': 7, 'subsample': 0.6931141936797243, 'colsample_bytree': 0.8817801730078565, 'min_child_weight': 6.992334203641873, 'gamma': 9.013424730095146, 'reg_alpha': 7.640858389939128, 'reg_lambda': 1.3562805915715632, 'scale_pos_weight': 1.449446257931491, 'objective': 'binary:logistic', 'learning_rate': 0.02, 'random_state': 1991}\n"
     ]
    },
    {
     "name": "stderr",
     "output_type": "stream",
     "text": [
      "C:\\Users\\KOREAIT\\anaconda3\\envs\\pt3prer32\\lib\\site-packages\\xgboost\\training.py:35: UserWarning: `feval` is deprecated, use `custom_metric` instead.  They have different behavior when custom objective is also used.See https://xgboost.readthedocs.io/en/latest/tutorials/custom_metric_obj.html for details on the `custom_metric`.\n",
      "  warnings.warn(\n"
     ]
    },
    {
     "name": "stdout",
     "output_type": "stream",
     "text": [
      "지니계수 : 0.28467622787110525\n",
      "\n",
      "| \u001b[0m7        \u001b[0m | \u001b[0m0.2847   \u001b[0m | \u001b[0m0.8818   \u001b[0m | \u001b[0m9.013    \u001b[0m | \u001b[0m6.927    \u001b[0m | \u001b[0m6.992    \u001b[0m | \u001b[0m7.641    \u001b[0m | \u001b[0m1.356    \u001b[0m | \u001b[0m1.449    \u001b[0m | \u001b[0m0.6931   \u001b[0m |\n",
      "하이퍼파라미터 : {'max_depth': 5, 'subsample': 0.6261564417044092, 'colsample_bytree': 0.8763145220620449, 'min_child_weight': 5.135323353557588, 'gamma': 8.39495450163982, 'reg_alpha': 8.950443047087845, 'reg_lambda': 1.4235649099168255, 'scale_pos_weight': 1.5217625173811569, 'objective': 'binary:logistic', 'learning_rate': 0.02, 'random_state': 1991}\n"
     ]
    },
    {
     "name": "stderr",
     "output_type": "stream",
     "text": [
      "C:\\Users\\KOREAIT\\anaconda3\\envs\\pt3prer32\\lib\\site-packages\\xgboost\\training.py:35: UserWarning: `feval` is deprecated, use `custom_metric` instead.  They have different behavior when custom objective is also used.See https://xgboost.readthedocs.io/en/latest/tutorials/custom_metric_obj.html for details on the `custom_metric`.\n",
      "  warnings.warn(\n"
     ]
    },
    {
     "name": "stdout",
     "output_type": "stream",
     "text": [
      "지니계수 : 0.2845717818705245\n",
      "\n",
      "| \u001b[0m8        \u001b[0m | \u001b[0m0.2846   \u001b[0m | \u001b[0m0.8763   \u001b[0m | \u001b[0m8.395    \u001b[0m | \u001b[0m4.561    \u001b[0m | \u001b[0m5.135    \u001b[0m | \u001b[0m8.95     \u001b[0m | \u001b[0m1.424    \u001b[0m | \u001b[0m1.522    \u001b[0m | \u001b[0m0.6262   \u001b[0m |\n",
      "하이퍼파라미터 : {'max_depth': 6, 'subsample': 0.857971740304964, 'colsample_bytree': 0.9583821245229369, 'min_child_weight': 6.158305055403563, 'gamma': 9.305332775334449, 'reg_alpha': 8.200928434091152, 'reg_lambda': 1.2571039588093065, 'scale_pos_weight': 1.4700266933495618, 'objective': 'binary:logistic', 'learning_rate': 0.02, 'random_state': 1991}\n"
     ]
    },
    {
     "name": "stderr",
     "output_type": "stream",
     "text": [
      "C:\\Users\\KOREAIT\\anaconda3\\envs\\pt3prer32\\lib\\site-packages\\xgboost\\training.py:35: UserWarning: `feval` is deprecated, use `custom_metric` instead.  They have different behavior when custom objective is also used.See https://xgboost.readthedocs.io/en/latest/tutorials/custom_metric_obj.html for details on the `custom_metric`.\n",
      "  warnings.warn(\n"
     ]
    },
    {
     "name": "stdout",
     "output_type": "stream",
     "text": [
      "지니계수 : 0.284227999659012\n",
      "\n",
      "| \u001b[0m9        \u001b[0m | \u001b[0m0.2842   \u001b[0m | \u001b[0m0.9584   \u001b[0m | \u001b[0m9.305    \u001b[0m | \u001b[0m5.594    \u001b[0m | \u001b[0m6.158    \u001b[0m | \u001b[0m8.201    \u001b[0m | \u001b[0m1.257    \u001b[0m | \u001b[0m1.47     \u001b[0m | \u001b[0m0.858    \u001b[0m |\n",
      "=========================================================================================================================\n"
     ]
    }
   ],
   "source": [
    "from bayes_opt import BayesianOptimization\n",
    "\n",
    "# 베이지안 최적화 객체 생성\n",
    "optimizer = BayesianOptimization(f=eval_function, \n",
    "                                 pbounds=param_bounds, \n",
    "                                 random_state=0)\n",
    "\n",
    "# 베이지안 최적화 수행\n",
    "optimizer.maximize(init_points=3, n_iter=6)"
   ]
  },
  {
   "cell_type": "markdown",
   "metadata": {
    "papermill": {
     "duration": 0.025409,
     "end_time": "2021-08-09T14:00:58.343159",
     "exception": false,
     "start_time": "2021-08-09T14:00:58.31775",
     "status": "completed"
    },
    "tags": []
   },
   "source": [
    "### 결과 확인"
   ]
  },
  {
   "cell_type": "code",
   "execution_count": 18,
   "metadata": {
    "papermill": {
     "duration": 0.035124,
     "end_time": "2021-08-09T14:00:58.403727",
     "exception": false,
     "start_time": "2021-08-09T14:00:58.368603",
     "status": "completed"
    },
    "tags": []
   },
   "outputs": [
    {
     "data": {
      "text/plain": [
       "{'colsample_bytree': 0.92975858050776,\n",
       " 'gamma': 9.95563546750357,\n",
       " 'max_depth': 6.809274695878221,\n",
       " 'min_child_weight': 6.249564429359247,\n",
       " 'reg_alpha': 8.411512219837842,\n",
       " 'reg_lambda': 1.424460008293778,\n",
       " 'scale_pos_weight': 1.5416807226581535,\n",
       " 'subsample': 0.8535233675350644}"
      ]
     },
     "execution_count": 18,
     "metadata": {},
     "output_type": "execute_result"
    }
   ],
   "source": [
    "# 평가함수 점수가 최대일 때 하이퍼파라미터\n",
    "max_params = optimizer.max['params']\n",
    "max_params"
   ]
  },
  {
   "cell_type": "code",
   "execution_count": 19,
   "metadata": {
    "papermill": {
     "duration": 0.037261,
     "end_time": "2021-08-09T14:00:58.467284",
     "exception": false,
     "start_time": "2021-08-09T14:00:58.430023",
     "status": "completed"
    },
    "tags": []
   },
   "outputs": [
    {
     "data": {
      "text/plain": [
       "{'colsample_bytree': 0.92975858050776,\n",
       " 'gamma': 9.95563546750357,\n",
       " 'max_depth': 7,\n",
       " 'min_child_weight': 6.249564429359247,\n",
       " 'reg_alpha': 8.411512219837842,\n",
       " 'reg_lambda': 1.424460008293778,\n",
       " 'scale_pos_weight': 1.5416807226581535,\n",
       " 'subsample': 0.8535233675350644,\n",
       " 'objective': 'binary:logistic',\n",
       " 'learning_rate': 0.02,\n",
       " 'random_state': 1991}"
      ]
     },
     "execution_count": 19,
     "metadata": {},
     "output_type": "execute_result"
    }
   ],
   "source": [
    "# 정수형 하이퍼파라미터 변환\n",
    "max_params['max_depth'] = int(round(max_params['max_depth']))\n",
    "\n",
    "# 값이 고정된 하이퍼파라미터 추가\n",
    "max_params.update(fixed_params)\n",
    "max_params"
   ]
  },
  {
   "cell_type": "markdown",
   "metadata": {
    "papermill": {
     "duration": 0.025933,
     "end_time": "2021-08-09T14:00:58.519727",
     "exception": false,
     "start_time": "2021-08-09T14:00:58.493794",
     "status": "completed"
    },
    "tags": []
   },
   "source": [
    "## 8.5.3 모델 훈련 및 성능 검증"
   ]
  },
  {
   "cell_type": "code",
   "execution_count": null,
   "metadata": {
    "papermill": {
     "duration": 5798.009054,
     "end_time": "2021-08-09T15:37:36.555036",
     "exception": false,
     "start_time": "2021-08-09T14:00:58.545982",
     "status": "completed"
    },
    "tags": []
   },
   "outputs": [
    {
     "name": "stdout",
     "output_type": "stream",
     "text": [
      "######################################## 폴드 1 / 폴드 5 ########################################\n"
     ]
    },
    {
     "name": "stderr",
     "output_type": "stream",
     "text": [
      "C:\\Users\\KOREAIT\\anaconda3\\envs\\pt3prer32\\lib\\site-packages\\xgboost\\training.py:35: UserWarning: `feval` is deprecated, use `custom_metric` instead.  They have different behavior when custom objective is also used.See https://xgboost.readthedocs.io/en/latest/tutorials/custom_metric_obj.html for details on the `custom_metric`.\n",
      "  warnings.warn(\n"
     ]
    },
    {
     "name": "stdout",
     "output_type": "stream",
     "text": [
      "[0]\tvalid-logloss:0.67679\tvalid-gini:0.17960\n",
      "[100]\tvalid-logloss:0.19335\tvalid-gini:0.25160\n",
      "[200]\tvalid-logloss:0.15933\tvalid-gini:0.27941\n",
      "[300]\tvalid-logloss:0.15586\tvalid-gini:0.28914\n",
      "[400]\tvalid-logloss:0.15528\tvalid-gini:0.29445\n",
      "[500]\tvalid-logloss:0.15515\tvalid-gini:0.29644\n",
      "[600]\tvalid-logloss:0.15510\tvalid-gini:0.29774\n",
      "[700]\tvalid-logloss:0.15504\tvalid-gini:0.29861\n",
      "[800]\tvalid-logloss:0.15504\tvalid-gini:0.29895\n",
      "[900]\tvalid-logloss:0.15501\tvalid-gini:0.29930\n",
      "[1000]\tvalid-logloss:0.15500\tvalid-gini:0.29951\n",
      "[1100]\tvalid-logloss:0.15500\tvalid-gini:0.29948\n",
      "[1200]\tvalid-logloss:0.15500\tvalid-gini:0.29925\n",
      "[1300]\tvalid-logloss:0.15500\tvalid-gini:0.29890\n",
      "[1328]\tvalid-logloss:0.15502\tvalid-gini:0.29871\n",
      "폴드 1 지니계수 : 0.2995411040808434\n",
      "\n",
      "######################################## 폴드 2 / 폴드 5 ########################################\n",
      "[0]\tvalid-logloss:0.67679\tvalid-gini:0.15338\n",
      "[100]\tvalid-logloss:0.19346\tvalid-gini:0.24065\n",
      "[200]\tvalid-logloss:0.15962\tvalid-gini:0.26513\n",
      "[300]\tvalid-logloss:0.15625\tvalid-gini:0.27460\n",
      "[400]\tvalid-logloss:0.15573\tvalid-gini:0.27888\n",
      "[500]\tvalid-logloss:0.15559\tvalid-gini:0.28135\n",
      "[600]\tvalid-logloss:0.15553\tvalid-gini:0.28293\n",
      "[700]\tvalid-logloss:0.15552\tvalid-gini:0.28368\n",
      "[800]\tvalid-logloss:0.15550\tvalid-gini:0.28436\n",
      "[900]\tvalid-logloss:0.15547\tvalid-gini:0.28468\n",
      "[1000]\tvalid-logloss:0.15546\tvalid-gini:0.28488\n",
      "[1100]\tvalid-logloss:0.15546\tvalid-gini:0.28523\n",
      "[1200]\tvalid-logloss:0.15545\tvalid-gini:0.28516\n",
      "[1300]\tvalid-logloss:0.15546\tvalid-gini:0.28499\n",
      "[1353]\tvalid-logloss:0.15545\tvalid-gini:0.28516\n",
      "폴드 2 지니계수 : 0.28532140009877754\n",
      "\n",
      "######################################## 폴드 3 / 폴드 5 ########################################\n",
      "[0]\tvalid-logloss:0.67679\tvalid-gini:0.15662\n",
      "[100]\tvalid-logloss:0.19333\tvalid-gini:0.24918\n",
      "[200]\tvalid-logloss:0.15933\tvalid-gini:0.27342\n",
      "[300]\tvalid-logloss:0.15589\tvalid-gini:0.28082\n",
      "[400]\tvalid-logloss:0.15540\tvalid-gini:0.28331\n",
      "[500]\tvalid-logloss:0.15532\tvalid-gini:0.28406\n",
      "[600]\tvalid-logloss:0.15529\tvalid-gini:0.28431\n",
      "[700]\tvalid-logloss:0.15529\tvalid-gini:0.28443\n",
      "[800]\tvalid-logloss:0.15526\tvalid-gini:0.28445\n",
      "[872]\tvalid-logloss:0.15528\tvalid-gini:0.28418\n",
      "폴드 3 지니계수 : 0.28459248383282343\n",
      "\n",
      "######################################## 폴드 4 / 폴드 5 ########################################\n",
      "[0]\tvalid-logloss:0.67679\tvalid-gini:0.18795\n",
      "[100]\tvalid-logloss:0.19326\tvalid-gini:0.24085\n",
      "[200]\tvalid-logloss:0.15944\tvalid-gini:0.26575\n",
      "[300]\tvalid-logloss:0.15609\tvalid-gini:0.27325\n",
      "[400]\tvalid-logloss:0.15562\tvalid-gini:0.27559\n",
      "[500]\tvalid-logloss:0.15550\tvalid-gini:0.27730\n",
      "[600]\tvalid-logloss:0.15546\tvalid-gini:0.27842\n",
      "[700]\tvalid-logloss:0.15544\tvalid-gini:0.27902\n",
      "[800]\tvalid-logloss:0.15543\tvalid-gini:0.27928\n",
      "[900]\tvalid-logloss:0.15542\tvalid-gini:0.27951\n",
      "[1000]\tvalid-logloss:0.15541\tvalid-gini:0.27956\n",
      "[1100]\tvalid-logloss:0.15543\tvalid-gini:0.27957\n",
      "[1200]\tvalid-logloss:0.15542\tvalid-gini:0.27957\n",
      "[1300]\tvalid-logloss:0.15542\tvalid-gini:0.27957\n",
      "[1335]\tvalid-logloss:0.15542\tvalid-gini:0.27957\n",
      "폴드 4 지니계수 : 0.2796348139341366\n",
      "\n",
      "######################################## 폴드 5 / 폴드 5 ########################################\n",
      "[0]\tvalid-logloss:0.67680\tvalid-gini:0.17061\n",
      "[100]\tvalid-logloss:0.19338\tvalid-gini:0.24859\n",
      "[200]\tvalid-logloss:0.15954\tvalid-gini:0.27507\n",
      "[300]\tvalid-logloss:0.15613\tvalid-gini:0.28441\n",
      "[400]\tvalid-logloss:0.15559\tvalid-gini:0.28917\n",
      "[500]\tvalid-logloss:0.15544\tvalid-gini:0.29171\n",
      "[600]\tvalid-logloss:0.15540\tvalid-gini:0.29294\n",
      "[700]\tvalid-logloss:0.15536\tvalid-gini:0.29358\n",
      "[800]\tvalid-logloss:0.15534\tvalid-gini:0.29422\n",
      "[900]\tvalid-logloss:0.15531\tvalid-gini:0.29463\n",
      "[1000]\tvalid-logloss:0.15530\tvalid-gini:0.29508\n",
      "[1100]\tvalid-logloss:0.15529\tvalid-gini:0.29541\n",
      "[1200]\tvalid-logloss:0.15527\tvalid-gini:0.29559\n",
      "[1300]\tvalid-logloss:0.15527\tvalid-gini:0.29558\n",
      "[1373]\tvalid-logloss:0.15527\tvalid-gini:0.29556\n"
     ]
    }
   ],
   "source": [
    "from sklearn.model_selection import StratifiedKFold\n",
    "\n",
    "# 층화 K 폴드 교차 검증기 생성\n",
    "folds = StratifiedKFold(n_splits=5, shuffle=True, random_state=1991)\n",
    "\n",
    "# OOF 방식으로 훈련된 모델로 검증 데이터 타깃값을 예측한 확률을 담을 1차원 배열\n",
    "oof_val_preds = np.zeros(X.shape[0]) \n",
    "# OOF 방식으로 훈련된 모델로 테스트 데이터 타깃값을 예측한 확률을 담을 1차원 배열\n",
    "oof_test_preds = np.zeros(X_test.shape[0]) \n",
    "\n",
    "# OOF 방식으로 모델 훈련, 검증, 예측\n",
    "for idx, (train_idx, valid_idx) in enumerate(folds.split(X, y)):\n",
    "    # 각 폴드를 구분하는 문구 출력\n",
    "    print('#'*40, f'폴드 {idx+1} / 폴드 {folds.n_splits}', '#'*40)\n",
    "    \n",
    "    # 훈련용 데이터, 검증용 데이터 설정\n",
    "    X_train, y_train = X[train_idx], y[train_idx]\n",
    "    X_valid, y_valid = X[valid_idx], y[valid_idx]\n",
    "\n",
    "    # XGBoost 전용 데이터셋 생성 \n",
    "    dtrain = xgb.DMatrix(X_train, y_train)\n",
    "    dvalid = xgb.DMatrix(X_valid, y_valid)\n",
    "    dtest = xgb.DMatrix(X_test)\n",
    "    # XGBoost 모델 훈련\n",
    "    xgb_model = xgb.train(params=max_params, \n",
    "                          dtrain=dtrain,\n",
    "                          num_boost_round=2000,\n",
    "                          evals=[(dvalid, 'valid')],\n",
    "                          maximize=True,\n",
    "                          feval=gini,\n",
    "                          early_stopping_rounds=200,\n",
    "                          verbose_eval=100)\n",
    "\n",
    "    # 모델 성능이 가장 좋을 때의 부스팅 반복 횟수 저장\n",
    "    best_iter = xgb_model.best_iteration\n",
    "    # 테스트 데이터를 활용해 OOF 예측\n",
    "    oof_test_preds += xgb_model.predict(dtest,\n",
    "                                        iteration_range=(0, best_iter))/folds.n_splits\n",
    "    \n",
    "    # 모델 성능 평가를 위한 검증 데이터 타깃값 예측 \n",
    "    oof_val_preds[valid_idx] += xgb_model.predict(dvalid, \n",
    "                                                  iteration_range=(0, best_iter))\n",
    "    \n",
    "    # 검증 데이터 예측 확률에 대한 정규화 지니계수\n",
    "    gini_score = eval_gini(y_valid, oof_val_preds[valid_idx])\n",
    "    print(f'폴드 {idx+1} 지니계수 : {gini_score}\\n')"
   ]
  },
  {
   "cell_type": "code",
   "execution_count": 22,
   "metadata": {
    "papermill": {
     "duration": 0.17782,
     "end_time": "2021-08-09T15:37:36.780817",
     "exception": false,
     "start_time": "2021-08-09T15:37:36.602997",
     "status": "completed"
    },
    "tags": []
   },
   "outputs": [
    {
     "name": "stdout",
     "output_type": "stream",
     "text": [
      "OOF 검증 데이터 지니계수 : 0.28883622957336147\n"
     ]
    }
   ],
   "source": [
    "print('OOF 검증 데이터 지니계수 :', eval_gini(y, oof_val_preds))"
   ]
  },
  {
   "cell_type": "markdown",
   "metadata": {
    "papermill": {
     "duration": 0.048497,
     "end_time": "2021-08-09T15:37:36.879167",
     "exception": false,
     "start_time": "2021-08-09T15:37:36.83067",
     "status": "completed"
    },
    "tags": []
   },
   "source": [
    "## 8.5.4 예측 및 결과 제출"
   ]
  },
  {
   "cell_type": "code",
   "execution_count": 23,
   "metadata": {
    "papermill": {
     "duration": 2.326551,
     "end_time": "2021-08-09T15:37:39.252685",
     "exception": false,
     "start_time": "2021-08-09T15:37:36.926134",
     "status": "completed"
    },
    "tags": []
   },
   "outputs": [],
   "source": [
    "submission['target'] = oof_test_preds\n",
    "submission.to_csv('submission.csv')"
   ]
  },
  {
   "cell_type": "code",
   "execution_count": null,
   "metadata": {},
   "outputs": [],
   "source": []
  }
 ],
 "metadata": {
  "kernelspec": {
   "display_name": "Python 3 (ipykernel)",
   "language": "python",
   "name": "python3"
  },
  "language_info": {
   "codemirror_mode": {
    "name": "ipython",
    "version": 3
   },
   "file_extension": ".py",
   "mimetype": "text/x-python",
   "name": "python",
   "nbconvert_exporter": "python",
   "pygments_lexer": "ipython3",
   "version": "3.9.12"
  },
  "toc": {
   "base_numbering": 1,
   "nav_menu": {},
   "number_sections": true,
   "sideBar": true,
   "skip_h1_title": false,
   "title_cell": "Table of Contents",
   "title_sidebar": "Contents",
   "toc_cell": false,
   "toc_position": {},
   "toc_section_display": true,
   "toc_window_display": false
  },
  "varInspector": {
   "cols": {
    "lenName": 16,
    "lenType": 16,
    "lenVar": 40
   },
   "kernels_config": {
    "python": {
     "delete_cmd_postfix": "",
     "delete_cmd_prefix": "del ",
     "library": "var_list.py",
     "varRefreshCmd": "print(var_dic_list())"
    },
    "r": {
     "delete_cmd_postfix": ") ",
     "delete_cmd_prefix": "rm(",
     "library": "var_list.r",
     "varRefreshCmd": "cat(var_dic_list()) "
    }
   },
   "types_to_exclude": [
    "module",
    "function",
    "builtin_function_or_method",
    "instance",
    "_Feature"
   ],
   "window_display": false
  }
 },
 "nbformat": 4,
 "nbformat_minor": 4
}
